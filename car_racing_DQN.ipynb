{
 "cells": [
  {
   "cell_type": "code",
   "execution_count": 1,
   "metadata": {
    "collapsed": true,
    "pycharm": {
     "is_executing": false
    }
   },
   "outputs": [],
   "source": [
    "%matplotlib inline"
   ]
  },
  {
   "cell_type": "markdown",
   "source": [
    "DEEP Q LEARNING CAR RACING IMPLEMENTATION\n",
    "----------------"
   ],
   "metadata": {
    "collapsed": false,
    "pycharm": {
     "name": "#%% md\n"
    }
   }
  },
  {
   "cell_type": "code",
   "execution_count": 2,
   "outputs": [
    {
     "name": "stderr",
     "text": [
      "/home/peter/Documents/gym/gym/gym/logger.py:30: UserWarning: \u001b[33mWARN: Box bound precision lowered by casting to float32\u001b[0m\n",
      "  warnings.warn(colorize('%s: %s'%('WARN', msg % args), 'yellow'))\n"
     ],
     "output_type": "stream"
    },
    {
     "data": {
      "text/plain": "<torch._C.Generator at 0x7f20c4ad5af0>"
     },
     "metadata": {},
     "output_type": "execute_result",
     "execution_count": 2
    }
   ],
   "source": [
    "import gym\n",
    "import math\n",
    "import random\n",
    "import numpy as np\n",
    "import matplotlib\n",
    "matplotlib.use('Qt5Agg') \n",
    "import matplotlib.pyplot as plt\n",
    "from collections import namedtuple\n",
    "from itertools import count\n",
    "from PIL import Image\n",
    "\n",
    "import torch\n",
    "import torch.nn as nn\n",
    "import torch.optim as optim\n",
    "import torch.nn.functional as F\n",
    "import torchvision.transforms as T\n",
    "\n",
    "\n",
    "env = gym.make('CarRacing-v0')\n",
    "\n",
    "\n",
    "# set up matplotlib\n",
    "is_ipython = 'inline' in matplotlib.get_backend()\n",
    "if is_ipython:\n",
    "    from IPython import display\n",
    "\n",
    "plt.ion()\n",
    "\n",
    "# if gpu is to be used\n",
    "device = torch.device(\"cuda\" if torch.cuda.is_available() else \"cpu\")\n",
    "\n",
    "# set manual seed for reproducability\n",
    "torch.manual_seed(360)"
   ],
   "metadata": {
    "collapsed": false,
    "pycharm": {
     "name": "#%%\n",
     "is_executing": false
    }
   }
  },
  {
   "cell_type": "markdown",
   "source": [
    "**Replay Memory:**\n",
    "\n",
    "Define a transition in our environment, mapping (state, action) to (next_state, reward).\n",
    "\n",
    "Define Replay Memory which is a bounded size buffer holding recently observed transitions.\n"
   ],
   "metadata": {
    "collapsed": false,
    "pycharm": {
     "name": "#%% md\n"
    }
   }
  },
  {
   "cell_type": "code",
   "execution_count": 3,
   "outputs": [],
   "source": [
    "Transition = namedtuple('Transition',\n",
    "                        ('state', 'action', 'next_state', 'reward'))\n",
    "\n",
    "\n",
    "class ReplayMemory(object):\n",
    "\n",
    "    def __init__(self, capacity):\n",
    "        self.capacity = capacity\n",
    "        self.memory = []\n",
    "        self.position = 0\n",
    "\n",
    "    def push(self, *args):\n",
    "        \"\"\"Saves a transition.\"\"\"\n",
    "        if len(self.memory) < self.capacity:\n",
    "            self.memory.append(None)\n",
    "        self.memory[self.position] = Transition(*args)\n",
    "        self.position = (self.position + 1) % self.capacity\n",
    "\n",
    "    def sample(self, batch_size):\n",
    "        return random.sample(self.memory, batch_size)\n",
    "\n",
    "    def __len__(self):\n",
    "        return len(self.memory)"
   ],
   "metadata": {
    "collapsed": false,
    "pycharm": {
     "name": "#%%\n",
     "is_executing": false
    }
   }
  },
  {
   "cell_type": "markdown",
   "source": [
    "**Model:**\n",
    "\n",
    "Define our model, this has been completely overhauled from the original tutorial's model.\n"
   ],
   "metadata": {
    "collapsed": false
   }
  },
  {
   "cell_type": "code",
   "execution_count": 4,
   "outputs": [],
   "source": [
    "class DQN(nn.Module):\n",
    "\n",
    "    def __init__(self, h, w, outputs):\n",
    "        super(DQN, self).__init__()\n",
    "        self.conv1 = nn.Conv2d(1, 8, kernel_size=5, stride=3)\n",
    "        self.conv2 = nn.Conv2d(8, 32, kernel_size=3, stride=1)\n",
    "        # self.conv3 = nn.Conv2d(16, 32, kernel_size=3, stride=1)\n",
    "        self.pool1 = nn.MaxPool2d(2, 2)\n",
    "        self.pool2 = nn.MaxPool2d(2, 2)\n",
    "\n",
    "        self.fc1 = nn.Linear(384, 124)\n",
    "        self.fc2  = nn.Linear(124, 5)\n",
    "\n",
    "    # Called with either one element to determine next action, or a batch\n",
    "    # during optimization. Returns tensor([[left0exp,right0exp]...]).\n",
    "    def forward(self, x):\n",
    "        x = F.relu(self.conv1(x))\n",
    "        x = self.pool1(x)\n",
    "        x = F.relu(self.conv2(x))\n",
    "        x = self.pool2(x)\n",
    "        # x = F.relu(self.conv3(x))\n",
    "        x = F.relu(self.fc1(x.view(x.size(0), -1)))\n",
    "        x = F.relu(self.fc2(x))\n",
    "        return x"
   ],
   "metadata": {
    "collapsed": false,
    "pycharm": {
     "name": "#%%\n",
     "is_executing": false
    }
   }
  },
  {
   "cell_type": "markdown",
   "source": [
    "**Data Processing:**\n",
    "\n",
    "Extract the next screen from the environment and crop it down, centered around the cart.\n",
    "This removes a lot of unessesary information, allowing our model to train more efficiently\n"
   ],
   "metadata": {
    "collapsed": false
   }
  },
  {
   "cell_type": "code",
   "execution_count": 5,
   "outputs": [
    {
     "name": "stdout",
     "text": [
      "Track generation: 1011..1306 -> 295-tiles track\n",
      "retry to generate track (normal if there are not many of this messages)\n",
      "Track generation: 1248..1564 -> 316-tiles track\n"
     ],
     "output_type": "stream"
    },
    {
     "data": {
      "text/plain": "array([[[0, 0, 0],\n        [0, 0, 0],\n        [0, 0, 0],\n        ...,\n        [0, 0, 0],\n        [0, 0, 0],\n        [0, 0, 0]],\n\n       [[0, 0, 0],\n        [0, 0, 0],\n        [0, 0, 0],\n        ...,\n        [0, 0, 0],\n        [0, 0, 0],\n        [0, 0, 0]],\n\n       [[0, 0, 0],\n        [0, 0, 0],\n        [0, 0, 0],\n        ...,\n        [0, 0, 0],\n        [0, 0, 0],\n        [0, 0, 0]],\n\n       ...,\n\n       [[0, 0, 0],\n        [0, 0, 0],\n        [0, 0, 0],\n        ...,\n        [0, 0, 0],\n        [0, 0, 0],\n        [0, 0, 0]],\n\n       [[0, 0, 0],\n        [0, 0, 0],\n        [0, 0, 0],\n        ...,\n        [0, 0, 0],\n        [0, 0, 0],\n        [0, 0, 0]],\n\n       [[0, 0, 0],\n        [0, 0, 0],\n        [0, 0, 0],\n        ...,\n        [0, 0, 0],\n        [0, 0, 0],\n        [0, 0, 0]]], dtype=uint8)"
     },
     "metadata": {},
     "output_type": "execute_result",
     "execution_count": 5
    }
   ],
   "source": [
    "resize = T.Compose([T.ToPILImage(),\n",
    "                    T.Resize((60, 70), interpolation=Image.CUBIC),\n",
    "                    T.ToTensor()])\n",
    "\n",
    "\n",
    "def get_cart_location(screen_width):\n",
    "    world_width = env.x_threshold * 2\n",
    "    scale = screen_width / world_width\n",
    "    return int(env.state[0] * scale + screen_width / 2.0)  # MIDDLE OF CART\n",
    "\n",
    "def get_screen(screen):\n",
    "    # Returned screen requested by gym is 400x600x3, but is sometimes larger\n",
    "    # such as 800x1200x3. Transpose it into torch order (CHW).\n",
    "    # screen = env.render(mode='rgb_array')\n",
    "    env.render()\n",
    "    \n",
    "    # Convert to grayscale (weights based off CCIR 601)\n",
    "    screen = screen[:,:,0] * 0.2989 + screen[:,:,1] * 0.5870 + screen[:,:,2] * 0.1140\n",
    "    # screen = screen[:,:,0] * 0.33 + screen[:,:,1] * 0.33 + screen[:,:,2] * 0.33\n",
    "    \n",
    "    # Crop out the bottom score \n",
    "    screen = screen[0:-50,:]\n",
    "    \n",
    "    # Crop the screen even more\n",
    "    # [height, width] = screen.shape\n",
    "    # screen = screen[0:int(height*1.0), int(width*0.25):int(width*0.75)]\n",
    "    \n",
    "    # Set the screen values to either black or white\n",
    "    screen[screen < 125] = 0\n",
    "    screen[screen > 125] = 255\n",
    "    \n",
    "    # Convert to float, and then to torch tensor\n",
    "    screen = np.ascontiguousarray(screen, dtype=np.float32) / 255\n",
    "    screen = torch.from_numpy(screen)\n",
    "    \n",
    "    # Resize (reducing dimensionality), and add a batch dimension (BHW)\n",
    "    return resize(screen).unsqueeze(0).to(device)\n",
    "\n",
    "env.reset()\n",
    "# plt.figure(1)\n",
    "# for x in range(100):\n",
    "#     screen, _, _, _ =env.step([0, 0.2, 0])\n",
    "# \n",
    "#     plt.clf()\n",
    "#     plt.imshow(get_screen(screen).cpu().squeeze(0).numpy()[0],\n",
    "#                cmap='gray', \n",
    "#                vmin=0, vmax=1)\n",
    "#     plt.title('Example extracted screen')\n",
    "#     plt.show()\n",
    "# \n",
    "#     plt.pause(0.001) \n",
    "#     if is_ipython:\n",
    "#         display.clear_output(wait=True)\n",
    "#         display.display(plt.gcf())"
   ],
   "metadata": {
    "collapsed": false,
    "pycharm": {
     "name": "#%%\n",
     "is_executing": false
    }
   }
  },
  {
   "cell_type": "markdown",
   "source": [
    "**Training:**\n",
    "\n",
    "This initiallizes our policy and target_nets as well as defines some helper functions.\n",
    "\n",
    "select_action will be used to select the next action we will take. This uses an epsilon greedy\n",
    "policy, creating a threshold to determine whether we 'exploit' our model or 'explore' the state \n",
    "space.\n",
    "\n",
    "plot_durations allows us to plot our results as the model is training.\n"
   ],
   "metadata": {
    "collapsed": false
   }
  },
  {
   "cell_type": "code",
   "execution_count": 12,
   "outputs": [],
   "source": [
    "BATCH_SIZE = 64\n",
    "GAMMA = 0.95\n",
    "EPS_START = 0.90\n",
    "EPS_END = 0.05\n",
    "EPS_DECAY = 1e5\n",
    "TARGET_UPDATE = 10\n",
    "\n",
    "ACTIONS = np.array([\n",
    "    [0.0, 1.0, 0.0],  # Accelerate\n",
    "    [0.0, 0.0, 0.7],  # Brake\n",
    "    [1.0, 0.05, 0.0],  # Right\n",
    "    [-1.0, 0.05, 0.0], # Left\n",
    "    [0.0, 0.05, 0.0]   # Nothing\n",
    "])\n",
    "\n",
    "# Get screen size so that we can initialize layers correctly based on shape\n",
    "# returned from AI gym. Typical dimensions at this point are close to 3x40x90\n",
    "# which is the result of a clamped and down-scaled render buffer in get_screen()\n",
    "init_screen = get_screen(env.render(mode='rgb_array'))\n",
    "_, _, screen_height, screen_width = init_screen.shape\n",
    "\n",
    "# Get number of actions from gym action space\n",
    "n_actions = env.action_space.shape[0]\n",
    "\n",
    "policy_net = DQN(screen_height, screen_width, n_actions).to(device)\n",
    "target_net = DQN(screen_height, screen_width, n_actions).to(device)\n",
    "target_net.load_state_dict(policy_net.state_dict())\n",
    "target_net.eval()\n",
    "\n",
    "optimizer = optim.Adam(policy_net.parameters(), lr=0.001, weight_decay=1e-6)\n",
    "memory = ReplayMemory(10000)\n",
    "\n",
    "\n",
    "steps_done = 0\n",
    "\n",
    "\n",
    "def select_action(state):\n",
    "    global steps_done\n",
    "    sample = random.random()\n",
    "    eps_threshold = EPS_END + (EPS_START - EPS_END) * \\\n",
    "        math.exp(-1. * steps_done / EPS_DECAY)\n",
    "    steps_done += 1\n",
    "    if sample > eps_threshold:\n",
    "        with torch.no_grad():\n",
    "            # t.max(1) will return largest column value of each row.\n",
    "            # second column on max result is index of where max element was\n",
    "            # found, so we pick action with the larger expected reward.\n",
    "            action = policy_net(state)\n",
    "            action = action.max(1)[1].view(1, 1)\n",
    "            return action\n",
    "    else:\n",
    "        choice = np.random.choice(5, 1, p=[0.2, 0.1, 0.25, 0.25, 0.2])\n",
    "        action = torch.tensor([choice], device=device, dtype=torch.long)\n",
    "        # print(\"Random:\", action, env.action_space.sample())\n",
    "        return action\n",
    "\n",
    "\n",
    "episode_durations = []\n",
    "\n",
    "\n",
    "def plot_durations():\n",
    "    plt.figure(2)\n",
    "    plt.clf()\n",
    "    durations_t = torch.tensor(episode_durations, dtype=torch.float)\n",
    "    plt.title('Training...')\n",
    "    plt.xlabel('Episode')\n",
    "    plt.ylabel('Reward')\n",
    "    plt.plot(durations_t.numpy())\n",
    "    # Take 100 episode averages and plot them too\n",
    "    if len(durations_t) >= 100:\n",
    "        means = durations_t.unfold(0, 100, 1).mean(1).view(-1)\n",
    "        means = torch.cat((torch.zeros(99), means))\n",
    "        plt.plot(means.numpy())\n",
    "\n",
    "    plt.pause(0.001)  # pause a bit so that plots are updated\n",
    "    if is_ipython:\n",
    "        display.clear_output(wait=True)\n",
    "        display.display(plt.gcf())\n",
    "        return means.numpy()"
   ],
   "metadata": {
    "collapsed": false,
    "pycharm": {
     "name": "#%%\n",
     "is_executing": false
    }
   }
  },
  {
   "cell_type": "markdown",
   "source": [
    "optimize_model performs a single step of optimization in our training. This will essentially compute \n",
    "the loss of the model and optimize accordingly.\n"
   ],
   "metadata": {
    "collapsed": false
   }
  },
  {
   "cell_type": "code",
   "execution_count": 7,
   "outputs": [],
   "source": [
    "def optimize_model():\n",
    "    if len(memory) < BATCH_SIZE:\n",
    "        return\n",
    "    transitions = memory.sample(BATCH_SIZE)\n",
    "    # Transpose the batch (see https://stackoverflow.com/a/19343/3343043 for\n",
    "    # detailed explanation). This converts batch-array of Transitions\n",
    "    # to Transition of batch-arrays.\n",
    "    batch = Transition(*zip(*transitions))\n",
    "\n",
    "    # Compute a mask of non-final states and concatenate the batch elements\n",
    "    # (a final state would've been the one after which simulation ended)\n",
    "    non_final_mask = torch.tensor(tuple(map(lambda s: s is not None,\n",
    "                                          batch.next_state)), device=device, dtype=torch.bool)\n",
    "    non_final_next_states = torch.cat([s for s in batch.next_state\n",
    "                                                if s is not None])\n",
    "    \n",
    "    state_batch = torch.cat(batch.state)\n",
    "    action_batch = torch.cat(batch.action)\n",
    "    reward_batch = torch.cat(batch.reward)\n",
    "\n",
    "    # Compute Q(s_t, a) - the model computes Q(s_t), then we select the\n",
    "    # columns of actions taken. These are the actions which would've been taken\n",
    "    # for each batch state according to policy_net\n",
    "    state_action_values = policy_net(state_batch).gather(1, action_batch.view(BATCH_SIZE, -1).long())\n",
    "\n",
    "    # Compute V(s_{t+1}) for all next states.\n",
    "    # Expected values of actions for non_final_next_states are computed based\n",
    "    # on the \"older\" target_net; selecting their best reward with max(1)[0].\n",
    "    # This is merged based on the mask, such that we'll have either the expected\n",
    "    # state value or 0 in case the state was final.\n",
    "    next_state_values = torch.zeros(BATCH_SIZE, device=device)\n",
    "    next_state_values[non_final_mask] = target_net(non_final_next_states).max(1)[0].detach()\n",
    "    # Compute the expected Q values\n",
    "    expected_state_action_values = (next_state_values * GAMMA) + reward_batch\n",
    "\n",
    "    # Compute Huber loss\n",
    "    loss = F.smooth_l1_loss(state_action_values, expected_state_action_values.unsqueeze(1))\n",
    "\n",
    "    # Optimize the model\n",
    "    optimizer.zero_grad()\n",
    "    loss.backward()\n",
    "    # for param in policy_net.parameters():\n",
    "    #     param.grad.data.clamp_(-1, 1)\n",
    "    optimizer.step()"
   ],
   "metadata": {
    "collapsed": false,
    "pycharm": {
     "name": "#%%\n",
     "is_executing": false
    }
   }
  },
  {
   "cell_type": "markdown",
   "source": [
    "**Training loop:**\n",
    "\n",
    "This is the rest of our training loop, we use the policy_net for selecting actions while using the\n",
    "target_net for loss calculations as it is more stable. We update the target_net's parameters with that\n",
    "of the policy_net every 10 episodes. by having the loop set up like this, we are able to continually run\n",
    "this block in our notebook, extending the training so we don't need to guess how many episodes is needed\n",
    "to see success.\n"
   ],
   "metadata": {
    "collapsed": false
   }
  },
  {
   "cell_type": "code",
   "execution_count": 17,
   "outputs": [
    {
     "name": "stdout",
     "text": [
      "Track generation: 1151..1451 -> 300-tiles track\n",
      "Track generation: 1097..1382 -> 285-tiles track\n",
      "Track generation: 1164..1459 -> 295-tiles track\n",
      "Track generation: 1190..1500 -> 310-tiles track\n",
      "Track generation: 1320..1654 -> 334-tiles track\n",
      "Track generation: 1180..1479 -> 299-tiles track\n",
      "Track generation: 1051..1318 -> 267-tiles track\n",
      "Track generation: 1196..1499 -> 303-tiles track\n",
      "Track generation: 1074..1351 -> 277-tiles track\n",
      "Track generation: 1283..1608 -> 325-tiles track\n",
      "Track generation: 1087..1404 -> 317-tiles track\n",
      "retry to generate track (normal if there are not many of this messages)\n",
      "Track generation: 1139..1428 -> 289-tiles track\n",
      "Track generation: 1208..1514 -> 306-tiles track\n",
      "Track generation: 1065..1336 -> 271-tiles track\n",
      "Track generation: 1107..1388 -> 281-tiles track\n",
      "Track generation: 1204..1509 -> 305-tiles track\n",
      "Track generation: 1154..1446 -> 292-tiles track\n",
      "Track generation: 1182..1481 -> 299-tiles track\n",
      "Track generation: 1211..1518 -> 307-tiles track\n",
      "Track generation: 1304..1634 -> 330-tiles track\n",
      "Track generation: 1022..1281 -> 259-tiles track\n",
      "Track generation: 1205..1510 -> 305-tiles track\n",
      "Track generation: 1096..1380 -> 284-tiles track\n",
      "Track generation: 1145..1435 -> 290-tiles track\n",
      "Track generation: 1012..1275 -> 263-tiles track\n",
      "Track generation: 1113..1403 -> 290-tiles track\n",
      "Track generation: 1076..1349 -> 273-tiles track\n",
      "Track generation: 1024..1284 -> 260-tiles track\n",
      "Track generation: 1045..1319 -> 274-tiles track\n",
      "Track generation: 1291..1619 -> 328-tiles track\n",
      "Track generation: 1227..1538 -> 311-tiles track\n",
      "Track generation: 1176..1474 -> 298-tiles track\n",
      "Track generation: 1363..1708 -> 345-tiles track\n",
      "Track generation: 1140..1435 -> 295-tiles track\n",
      "Track generation: 1001..1257 -> 256-tiles track\n",
      "retry to generate track (normal if there are not many of this messages)\n",
      "Track generation: 1015..1273 -> 258-tiles track\n",
      "Track generation: 1143..1440 -> 297-tiles track\n",
      "Track generation: 1144..1434 -> 290-tiles track\n",
      "Track generation: 1021..1290 -> 269-tiles track\n",
      "Track generation: 1160..1458 -> 298-tiles track\n",
      "Track generation: 994..1249 -> 255-tiles track\n",
      "retry to generate track (normal if there are not many of this messages)\n",
      "Track generation: 1025..1291 -> 266-tiles track\n",
      "Track generation: 1310..1642 -> 332-tiles track\n",
      "Track generation: 1176..1474 -> 298-tiles track\n",
      "Track generation: 1050..1317 -> 267-tiles track\n",
      "Track generation: 1250..1567 -> 317-tiles track\n",
      "Track generation: 1186..1490 -> 304-tiles track\n",
      "retry to generate track (normal if there are not many of this messages)\n",
      "Track generation: 1190..1493 -> 303-tiles track\n",
      "Track generation: 1140..1433 -> 293-tiles track\n",
      "Track generation: 1173..1479 -> 306-tiles track\n",
      "Track generation: 1041..1310 -> 269-tiles track\n",
      "Track generation: 1113..1395 -> 282-tiles track\n",
      "Track generation: 1247..1560 -> 313-tiles track\n",
      "Track generation: 1251..1568 -> 317-tiles track\n",
      "Track generation: 1143..1431 -> 288-tiles track\n",
      "Track generation: 1124..1409 -> 285-tiles track\n",
      "Track generation: 1066..1345 -> 279-tiles track\n",
      "Track generation: 1140..1429 -> 289-tiles track\n",
      "Track generation: 1154..1446 -> 292-tiles track\n",
      "Track generation: 1180..1479 -> 299-tiles track\n",
      "Track generation: 1190..1499 -> 309-tiles track\n",
      "Track generation: 1044..1310 -> 266-tiles track\n",
      "Track generation: 1162..1456 -> 294-tiles track\n",
      "Track generation: 1202..1507 -> 305-tiles track\n",
      "Track generation: 1225..1535 -> 310-tiles track\n",
      "Track generation: 1264..1584 -> 320-tiles track\n",
      "Track generation: 1185..1475 -> 290-tiles track\n",
      "Track generation: 1098..1377 -> 279-tiles track\n",
      "Track generation: 1095..1373 -> 278-tiles track\n",
      "Track generation: 1052..1319 -> 267-tiles track\n",
      "Track generation: 1111..1393 -> 282-tiles track\n",
      "Track generation: 1093..1377 -> 284-tiles track\n",
      "Track generation: 1127..1413 -> 286-tiles track\n",
      "Track generation: 1257..1575 -> 318-tiles track\n",
      "Track generation: 1252..1569 -> 317-tiles track\n",
      "Track generation: 1108..1389 -> 281-tiles track\n",
      "Track generation: 1108..1399 -> 291-tiles track\n",
      "retry to generate track (normal if there are not many of this messages)\n",
      "Track generation: 1003..1262 -> 259-tiles track\n",
      "Track generation: 1152..1444 -> 292-tiles track\n",
      "Track generation: 1145..1430 -> 285-tiles track\n",
      "Track generation: 1186..1487 -> 301-tiles track\n",
      "Track generation: 1045..1319 -> 274-tiles track\n",
      "Track generation: 1272..1594 -> 322-tiles track\n",
      "Track generation: 1072..1344 -> 272-tiles track\n",
      "Track generation: 1098..1385 -> 287-tiles track\n",
      "Track generation: 1235..1551 -> 316-tiles track\n",
      "Track generation: 1167..1463 -> 296-tiles track\n",
      "Track generation: 1100..1379 -> 279-tiles track\n",
      "Track generation: 1044..1309 -> 265-tiles track\n",
      "Track generation: 1079..1353 -> 274-tiles track\n",
      "Track generation: 1399..1752 -> 353-tiles track\n",
      "Track generation: 1108..1389 -> 281-tiles track\n",
      "Track generation: 1136..1424 -> 288-tiles track\n",
      "Track generation: 1111..1393 -> 282-tiles track\n",
      "Track generation: 1007..1263 -> 256-tiles track\n",
      "Track generation: 1144..1445 -> 301-tiles track\n",
      "Track generation: 1196..1499 -> 303-tiles track\n",
      "Track generation: 1077..1350 -> 273-tiles track\n",
      "Track generation: 1228..1547 -> 319-tiles track\n",
      "Track generation: 1156..1449 -> 293-tiles track\n",
      "Track generation: 1071..1343 -> 272-tiles track\n",
      "Track generation: 1051..1318 -> 267-tiles track\n",
      "Track generation: 1301..1630 -> 329-tiles track\n",
      "Track generation: 1058..1335 -> 277-tiles track\n",
      "Track generation: 1156..1449 -> 293-tiles track\n",
      "Complete\n"
     ],
     "output_type": "stream"
    }
   ],
   "source": [
    "num_episodes = 100\n",
    "frame_skips = 2\n",
    "for i_episode in range(num_episodes):\n",
    "    # Initialize the environment and state\n",
    "    env.reset()\n",
    "    last_screen = get_screen(env.render(mode='rgb_array'))\n",
    "    current_screen = get_screen(env.render(mode='rgb_array'))\n",
    "    state = current_screen - last_screen\n",
    "    \n",
    "    total_reward = 0.0\n",
    "    for t in count():        \n",
    "        # Select and perform an action\n",
    "        action = select_action(state).cpu().numpy()\n",
    "        \n",
    "        # Accelerate for first 10 frames\n",
    "        if t < 25:\n",
    "            action = np.array([[0]])\n",
    "        # action = np.clip(action, env.action_space.low, env.action_space.high)\n",
    "        # if action.shape[0] == 1:\n",
    "        #     action = action[0]        \n",
    "        \n",
    "        f_reward = 0.0\n",
    "        for i in range(frame_skips):\n",
    "            _, reward, done, _ = env.step(ACTIONS[action[0,0]])\n",
    "            f_reward += reward\n",
    "            total_reward += reward\n",
    "            if done:\n",
    "                break\n",
    "\n",
    "        # Observe new state\n",
    "        last_screen = current_screen\n",
    "        current_screen = get_screen(env.render(mode='rgb_array'))\n",
    "        screen_np = current_screen.cpu().numpy()[0,0]\n",
    "        # \n",
    "        # plt.figure(1)\n",
    "        # plt.clf()\n",
    "        # plt.imshow(screen_np,\n",
    "        #            cmap='gray', \n",
    "        #            vmin=0, vmax=1)\n",
    "        # plt.title('Example extracted screen')\n",
    "        # plt.show()\n",
    "    \n",
    "        plt.pause(0.001) \n",
    "        if is_ipython:\n",
    "            display.clear_output(wait=True)\n",
    "            display.display(plt.gcf())\n",
    "        \n",
    "        # If we can't see anything, severly punish and move on\n",
    "        screen_np[43:, 30:40] = 1.0\n",
    "        if t > 25 and not np.any(screen_np - 1.0):\n",
    "            f_reward = -100.0\n",
    "            total_reward += f_reward\n",
    "            done = True\n",
    "        \n",
    "        action = torch.tensor(action, device=device)\n",
    "        reward = torch.tensor([f_reward], device=device)\n",
    "\n",
    "        if not done:\n",
    "            next_state = current_screen - last_screen\n",
    "        else:\n",
    "            next_state = None\n",
    "\n",
    "        # Store the transition in memory\n",
    "        memory.push(state, action.float(), next_state, reward)\n",
    "\n",
    "        # Move to the next state\n",
    "        state = next_state\n",
    "\n",
    "        # Perform one step of the optimization (on the target network)\n",
    "        optimize_model()\n",
    "        if done:\n",
    "            episode_durations.append(total_reward + 1)\n",
    "            total_reward = 0\n",
    "            mean = plot_durations()\n",
    "            break\n",
    "    # Update the target network, copying all weights and biases in DQN\n",
    "    if i_episode % TARGET_UPDATE == 0:\n",
    "        target_net.load_state_dict(policy_net.state_dict())\n",
    "\n",
    "print('Complete')\n",
    "env.render()\n",
    "env.close()\n",
    "plt.ioff()\n",
    "plt.show()"
   ],
   "metadata": {
    "collapsed": false,
    "pycharm": {
     "name": "#%%\n",
     "is_executing": false
    }
   }
  },
  {
   "cell_type": "code",
   "execution_count": 21,
   "outputs": [],
   "source": [
    "# Save the network's parameters when we want to\n",
    "torch.save(target_net.state_dict(), './racing_BW_target_net_params')"
   ],
   "metadata": {
    "collapsed": false,
    "pycharm": {
     "name": "#%%\n",
     "is_executing": false
    }
   }
  },
  {
   "cell_type": "code",
   "execution_count": 19,
   "outputs": [],
   "source": [
    "# Save the training results so we can plot them better later\n",
    "# Pycharm was struggling with pyplot at times so plotting the results \n",
    "# in a seperate file helped with that\n",
    "durations_t = torch.tensor(episode_durations, dtype=torch.float)\n",
    "np.savetxt('./racing_BW_training_results.csv', durations_t.numpy(), delimiter=' ')\n",
    "\n",
    "\n",
    "\"\"\"\n",
    "    Did 700 episodes, data saved in racing_BW... for target net and for training results.\n",
    "    Best run was ~560\n",
    "\n",
    "\"\"\""
   ],
   "metadata": {
    "collapsed": false,
    "pycharm": {
     "name": "#%%\n",
     "is_executing": false
    }
   }
  }
 ],
 "metadata": {
  "kernelspec": {
   "display_name": "Python 3",
   "language": "python",
   "name": "python3"
  },
  "language_info": {
   "codemirror_mode": {
    "name": "ipython",
    "version": 2
   },
   "file_extension": ".py",
   "mimetype": "text/x-python",
   "name": "python",
   "nbconvert_exporter": "python",
   "pygments_lexer": "ipython2",
   "version": "2.7.6"
  },
  "pycharm": {
   "stem_cell": {
    "cell_type": "raw",
    "source": [],
    "metadata": {
     "collapsed": false
    }
   }
  }
 },
 "nbformat": 4,
 "nbformat_minor": 0
}